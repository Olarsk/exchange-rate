{
 "cells": [
  {
   "cell_type": "code",
   "execution_count": 1,
   "metadata": {},
   "outputs": [
    {
     "data": {
      "text/html": [
       "<div>\n",
       "<style scoped>\n",
       "    .dataframe tbody tr th:only-of-type {\n",
       "        vertical-align: middle;\n",
       "    }\n",
       "\n",
       "    .dataframe tbody tr th {\n",
       "        vertical-align: top;\n",
       "    }\n",
       "\n",
       "    .dataframe thead th {\n",
       "        text-align: right;\n",
       "    }\n",
       "</style>\n",
       "<table border=\"1\" class=\"dataframe\">\n",
       "  <thead>\n",
       "    <tr style=\"text-align: right;\">\n",
       "      <th></th>\n",
       "      <th>Rate Date</th>\n",
       "      <th>Currency</th>\n",
       "      <th>Rate Year</th>\n",
       "      <th>Rate Month</th>\n",
       "      <th>Buying Rate</th>\n",
       "      <th>Central Rate</th>\n",
       "      <th>Selling Rate</th>\n",
       "    </tr>\n",
       "  </thead>\n",
       "  <tbody>\n",
       "    <tr>\n",
       "      <th>0</th>\n",
       "      <td>11/29/2022</td>\n",
       "      <td>US DOLLAR</td>\n",
       "      <td>2022</td>\n",
       "      <td>November</td>\n",
       "      <td>443.6700</td>\n",
       "      <td>444.1700</td>\n",
       "      <td>444.6700</td>\n",
       "    </tr>\n",
       "    <tr>\n",
       "      <th>1</th>\n",
       "      <td>11/29/2022</td>\n",
       "      <td>POUNDS STERLING</td>\n",
       "      <td>2022</td>\n",
       "      <td>November</td>\n",
       "      <td>533.4688</td>\n",
       "      <td>534.0700</td>\n",
       "      <td>534.6712</td>\n",
       "    </tr>\n",
       "    <tr>\n",
       "      <th>2</th>\n",
       "      <td>11/29/2022</td>\n",
       "      <td>EURO</td>\n",
       "      <td>2022</td>\n",
       "      <td>November</td>\n",
       "      <td>460.7513</td>\n",
       "      <td>461.2705</td>\n",
       "      <td>461.7898</td>\n",
       "    </tr>\n",
       "    <tr>\n",
       "      <th>3</th>\n",
       "      <td>11/29/2022</td>\n",
       "      <td>SWISS FRANC</td>\n",
       "      <td>2022</td>\n",
       "      <td>November</td>\n",
       "      <td>467.1686</td>\n",
       "      <td>467.6951</td>\n",
       "      <td>468.2215</td>\n",
       "    </tr>\n",
       "    <tr>\n",
       "      <th>4</th>\n",
       "      <td>11/29/2022</td>\n",
       "      <td>YEN</td>\n",
       "      <td>2022</td>\n",
       "      <td>November</td>\n",
       "      <td>3.2152</td>\n",
       "      <td>3.2189</td>\n",
       "      <td>3.2225</td>\n",
       "    </tr>\n",
       "  </tbody>\n",
       "</table>\n",
       "</div>"
      ],
      "text/plain": [
       "    Rate Date         Currency  Rate Year Rate Month  Buying Rate  \\\n",
       "0  11/29/2022        US DOLLAR       2022   November     443.6700   \n",
       "1  11/29/2022  POUNDS STERLING       2022   November     533.4688   \n",
       "2  11/29/2022             EURO       2022   November     460.7513   \n",
       "3  11/29/2022      SWISS FRANC       2022   November     467.1686   \n",
       "4  11/29/2022              YEN       2022   November       3.2152   \n",
       "\n",
       "   Central Rate  Selling Rate  \n",
       "0      444.1700      444.6700  \n",
       "1      534.0700      534.6712  \n",
       "2      461.2705      461.7898  \n",
       "3      467.6951      468.2215  \n",
       "4        3.2189        3.2225  "
      ]
     },
     "execution_count": 1,
     "metadata": {},
     "output_type": "execute_result"
    }
   ],
   "source": [
    "import pandas as pd\n",
    "import matplotlib.pyplot as plt\n",
    "import seaborn as sns\n",
    "\n",
    "exchange_rates = pd.read_csv('C:/Users/Ahmad/Desktop/Python/TwitterProjects/cbn_raw.csv', index_col=False)\n",
    "# exchange_rates.reset_index()\n",
    "exchange_rates.head()"
   ]
  },
  {
   "cell_type": "code",
   "execution_count": 2,
   "metadata": {},
   "outputs": [
    {
     "data": {
      "text/plain": [
       "US DOLLAR             5127\n",
       "WAUA                  5125\n",
       "POUNDS STERLING       5122\n",
       "EURO                  5119\n",
       "YEN                   5118\n",
       "CFA                   5097\n",
       "RIYAL                 4587\n",
       "SWISS FRANC           4173\n",
       "SDR                   3590\n",
       "YUAN/RENMINBI         2677\n",
       "DANISH KRONA          2511\n",
       "SOUTH AFRICAN RAND    1405\n",
       "DANISH KRONER         1092\n",
       "NAIRA                    8\n",
       "POUND STERLING           5\n",
       "YEN                      3\n",
       "POESO                    3\n",
       "CFA                      2\n",
       "WAUA                     2\n",
       "SDR                      2\n",
       "JAPANESE YEN             1\n",
       "US DOLLAR                1\n",
       "EURO\\t                   1\n",
       "EURO                     1\n",
       "RIYAL                    1\n",
       "SWISS FRANC\\t            1\n",
       "SDR\\t                    1\n",
       "Name: Currency, dtype: int64"
      ]
     },
     "execution_count": 2,
     "metadata": {},
     "output_type": "execute_result"
    }
   ],
   "source": [
    "exchange_rates['Currency'].value_counts()"
   ]
  },
  {
   "cell_type": "code",
   "execution_count": 3,
   "metadata": {},
   "outputs": [
    {
     "data": {
      "text/html": [
       "<div>\n",
       "<style scoped>\n",
       "    .dataframe tbody tr th:only-of-type {\n",
       "        vertical-align: middle;\n",
       "    }\n",
       "\n",
       "    .dataframe tbody tr th {\n",
       "        vertical-align: top;\n",
       "    }\n",
       "\n",
       "    .dataframe thead th {\n",
       "        text-align: right;\n",
       "    }\n",
       "</style>\n",
       "<table border=\"1\" class=\"dataframe\">\n",
       "  <thead>\n",
       "    <tr style=\"text-align: right;\">\n",
       "      <th></th>\n",
       "      <th>Rate Date</th>\n",
       "      <th>Currency</th>\n",
       "      <th>Rate Year</th>\n",
       "      <th>Rate Month</th>\n",
       "      <th>Buying Rate</th>\n",
       "      <th>Central Rate</th>\n",
       "      <th>Selling Rate</th>\n",
       "    </tr>\n",
       "  </thead>\n",
       "  <tbody>\n",
       "    <tr>\n",
       "      <th>0</th>\n",
       "      <td>11/29/2022</td>\n",
       "      <td>US DOLLAR</td>\n",
       "      <td>2022</td>\n",
       "      <td>November</td>\n",
       "      <td>443.67</td>\n",
       "      <td>444.17</td>\n",
       "      <td>444.67</td>\n",
       "    </tr>\n",
       "    <tr>\n",
       "      <th>1</th>\n",
       "      <td>11/28/2022</td>\n",
       "      <td>US DOLLAR</td>\n",
       "      <td>2022</td>\n",
       "      <td>November</td>\n",
       "      <td>443.53</td>\n",
       "      <td>444.03</td>\n",
       "      <td>444.53</td>\n",
       "    </tr>\n",
       "    <tr>\n",
       "      <th>2</th>\n",
       "      <td>11/25/2022</td>\n",
       "      <td>US DOLLAR</td>\n",
       "      <td>2022</td>\n",
       "      <td>November</td>\n",
       "      <td>443.37</td>\n",
       "      <td>443.87</td>\n",
       "      <td>444.37</td>\n",
       "    </tr>\n",
       "    <tr>\n",
       "      <th>3</th>\n",
       "      <td>11/24/2022</td>\n",
       "      <td>US DOLLAR</td>\n",
       "      <td>2022</td>\n",
       "      <td>November</td>\n",
       "      <td>443.24</td>\n",
       "      <td>443.74</td>\n",
       "      <td>444.24</td>\n",
       "    </tr>\n",
       "    <tr>\n",
       "      <th>4</th>\n",
       "      <td>11/23/2022</td>\n",
       "      <td>US DOLLAR</td>\n",
       "      <td>2022</td>\n",
       "      <td>November</td>\n",
       "      <td>442.93</td>\n",
       "      <td>443.43</td>\n",
       "      <td>443.93</td>\n",
       "    </tr>\n",
       "  </tbody>\n",
       "</table>\n",
       "</div>"
      ],
      "text/plain": [
       "    Rate Date   Currency  Rate Year Rate Month  Buying Rate  Central Rate  \\\n",
       "0  11/29/2022  US DOLLAR       2022   November       443.67        444.17   \n",
       "1  11/28/2022  US DOLLAR       2022   November       443.53        444.03   \n",
       "2  11/25/2022  US DOLLAR       2022   November       443.37        443.87   \n",
       "3  11/24/2022  US DOLLAR       2022   November       443.24        443.74   \n",
       "4  11/23/2022  US DOLLAR       2022   November       442.93        443.43   \n",
       "\n",
       "   Selling Rate  \n",
       "0        444.67  \n",
       "1        444.53  \n",
       "2        444.37  \n",
       "3        444.24  \n",
       "4        443.93  "
      ]
     },
     "execution_count": 3,
     "metadata": {},
     "output_type": "execute_result"
    }
   ],
   "source": [
    "# Selecting NGN-Dollar rates only\n",
    "cbn_raw = exchange_rates.query('Currency == \"US DOLLAR\"').reset_index(drop=True)\n",
    "cbn_raw.head()"
   ]
  },
  {
   "cell_type": "code",
   "execution_count": 4,
   "metadata": {},
   "outputs": [
    {
     "data": {
      "text/plain": [
       "0    11-29-2022\n",
       "1    11-28-2022\n",
       "2    11-25-2022\n",
       "3    11-24-2022\n",
       "4    11-23-2022\n",
       "Name: Rate Date, dtype: object"
      ]
     },
     "execution_count": 4,
     "metadata": {},
     "output_type": "execute_result"
    }
   ],
   "source": [
    "# cleaning up the date column\n",
    "date_cleaned = cbn_raw['Rate Date'].astype('string')\n",
    "date_cleaned = cbn_raw['Rate Date'].str.replace('/', '-')\n",
    "date_cleaned.head()"
   ]
  },
  {
   "cell_type": "code",
   "execution_count": 5,
   "metadata": {},
   "outputs": [
    {
     "data": {
      "text/plain": [
       "0   2022-11-29\n",
       "1   2022-11-28\n",
       "2   2022-11-25\n",
       "3   2022-11-24\n",
       "4   2022-11-23\n",
       "Name: Rate Date, dtype: datetime64[ns]"
      ]
     },
     "execution_count": 5,
     "metadata": {},
     "output_type": "execute_result"
    }
   ],
   "source": [
    "# setting the desired time format\n",
    "cbn_date = pd.to_datetime(date_cleaned)\n",
    "cbn_date = cbn_date.dt.strftime('%Y-%m-%d')\n",
    "cbn_date = pd.to_datetime(date_cleaned) #we lost the dtype when we used dt.strftime()\n",
    "cbn_date.head()"
   ]
  },
  {
   "cell_type": "code",
   "execution_count": 6,
   "metadata": {},
   "outputs": [
    {
     "data": {
      "text/plain": [
       "0    444.17\n",
       "1    444.03\n",
       "2    443.87\n",
       "3    443.74\n",
       "4    443.43\n",
       "Name: Central Rate, dtype: float64"
      ]
     },
     "execution_count": 6,
     "metadata": {},
     "output_type": "execute_result"
    }
   ],
   "source": [
    "central_rate = cbn_raw['Central Rate'].astype('float')\n",
    "central_rate.head()"
   ]
  },
  {
   "cell_type": "code",
   "execution_count": 7,
   "metadata": {},
   "outputs": [
    {
     "data": {
      "text/html": [
       "<div>\n",
       "<style scoped>\n",
       "    .dataframe tbody tr th:only-of-type {\n",
       "        vertical-align: middle;\n",
       "    }\n",
       "\n",
       "    .dataframe tbody tr th {\n",
       "        vertical-align: top;\n",
       "    }\n",
       "\n",
       "    .dataframe thead th {\n",
       "        text-align: right;\n",
       "    }\n",
       "</style>\n",
       "<table border=\"1\" class=\"dataframe\">\n",
       "  <thead>\n",
       "    <tr style=\"text-align: right;\">\n",
       "      <th></th>\n",
       "      <th>Exchange Rate</th>\n",
       "    </tr>\n",
       "  </thead>\n",
       "  <tbody>\n",
       "    <tr>\n",
       "      <th>count</th>\n",
       "      <td>5127.000000</td>\n",
       "    </tr>\n",
       "    <tr>\n",
       "      <th>mean</th>\n",
       "      <td>205.325474</td>\n",
       "    </tr>\n",
       "    <tr>\n",
       "      <th>std</th>\n",
       "      <td>99.114906</td>\n",
       "    </tr>\n",
       "    <tr>\n",
       "      <th>min</th>\n",
       "      <td>66.090000</td>\n",
       "    </tr>\n",
       "    <tr>\n",
       "      <th>25%</th>\n",
       "      <td>132.250000</td>\n",
       "    </tr>\n",
       "    <tr>\n",
       "      <th>50%</th>\n",
       "      <td>155.230000</td>\n",
       "    </tr>\n",
       "    <tr>\n",
       "      <th>75%</th>\n",
       "      <td>305.250000</td>\n",
       "    </tr>\n",
       "    <tr>\n",
       "      <th>max</th>\n",
       "      <td>1376.800000</td>\n",
       "    </tr>\n",
       "  </tbody>\n",
       "</table>\n",
       "</div>"
      ],
      "text/plain": [
       "       Exchange Rate\n",
       "count    5127.000000\n",
       "mean      205.325474\n",
       "std        99.114906\n",
       "min        66.090000\n",
       "25%       132.250000\n",
       "50%       155.230000\n",
       "75%       305.250000\n",
       "max      1376.800000"
      ]
     },
     "execution_count": 7,
     "metadata": {},
     "output_type": "execute_result"
    }
   ],
   "source": [
    "cbn_raw['Date'] = cbn_date\n",
    "cbn_raw['Exchange Rate'] = central_rate\n",
    "cbn_official_rate = cbn_raw[['Date', 'Exchange Rate']]\n",
    "cbn_official_rate.describe()"
   ]
  },
  {
   "cell_type": "code",
   "execution_count": 8,
   "metadata": {},
   "outputs": [
    {
     "data": {
      "image/png": "[encoded data removed]",
      "text/plain": [
       "<Figure size 432x288 with 1 Axes>"
      ]
     },
     "metadata": {
      "needs_background": "light"
     },
     "output_type": "display_data"
    }
   ],
   "source": [
    "sns.lineplot(data=cbn_official_rate, x='Date', y='Exchange Rate')\n",
    "plt.show()"
   ]
  },
  {
   "cell_type": "code",
   "execution_count": 13,
   "metadata": {},
   "outputs": [
    {
     "data": {
      "text/html": [
       "<div>\n",
       "<style scoped>\n",
       "    .dataframe tbody tr th:only-of-type {\n",
       "        vertical-align: middle;\n",
       "    }\n",
       "\n",
       "    .dataframe tbody tr th {\n",
       "        vertical-align: top;\n",
       "    }\n",
       "\n",
       "    .dataframe thead th {\n",
       "        text-align: right;\n",
       "    }\n",
       "</style>\n",
       "<table border=\"1\" class=\"dataframe\">\n",
       "  <thead>\n",
       "    <tr style=\"text-align: right;\">\n",
       "      <th></th>\n",
       "      <th>Exchange Rate</th>\n",
       "    </tr>\n",
       "  </thead>\n",
       "  <tbody>\n",
       "    <tr>\n",
       "      <th>count</th>\n",
       "      <td>5126.000000</td>\n",
       "    </tr>\n",
       "    <tr>\n",
       "      <th>mean</th>\n",
       "      <td>205.096938</td>\n",
       "    </tr>\n",
       "    <tr>\n",
       "      <th>std</th>\n",
       "      <td>97.764273</td>\n",
       "    </tr>\n",
       "    <tr>\n",
       "      <th>min</th>\n",
       "      <td>66.090000</td>\n",
       "    </tr>\n",
       "    <tr>\n",
       "      <th>25%</th>\n",
       "      <td>132.250000</td>\n",
       "    </tr>\n",
       "    <tr>\n",
       "      <th>50%</th>\n",
       "      <td>155.230000</td>\n",
       "    </tr>\n",
       "    <tr>\n",
       "      <th>75%</th>\n",
       "      <td>305.250000</td>\n",
       "    </tr>\n",
       "    <tr>\n",
       "      <th>max</th>\n",
       "      <td>444.170000</td>\n",
       "    </tr>\n",
       "  </tbody>\n",
       "</table>\n",
       "</div>"
      ],
      "text/plain": [
       "       Exchange Rate\n",
       "count    5126.000000\n",
       "mean      205.096938\n",
       "std        97.764273\n",
       "min        66.090000\n",
       "25%       132.250000\n",
       "50%       155.230000\n",
       "75%       305.250000\n",
       "max       444.170000"
      ]
     },
     "execution_count": 13,
     "metadata": {},
     "output_type": "execute_result"
    }
   ],
   "source": [
    "# cleaning the outliers\n",
    "outliers = cbn_official_rate[cbn_official_rate['Exchange Rate'] > 500]\n",
    "official_rate = cbn_official_rate.drop(index=4637)\n",
    "official_rate.describe()"
   ]
  },
  {
   "cell_type": "code",
   "execution_count": 10,
   "metadata": {},
   "outputs": [
    {
     "data": {
      "text/html": [
       "<div>\n",
       "<style scoped>\n",
       "    .dataframe tbody tr th:only-of-type {\n",
       "        vertical-align: middle;\n",
       "    }\n",
       "\n",
       "    .dataframe tbody tr th {\n",
       "        vertical-align: top;\n",
       "    }\n",
       "\n",
       "    .dataframe thead th {\n",
       "        text-align: right;\n",
       "    }\n",
       "</style>\n",
       "<table border=\"1\" class=\"dataframe\">\n",
       "  <thead>\n",
       "    <tr style=\"text-align: right;\">\n",
       "      <th></th>\n",
       "      <th>Date</th>\n",
       "      <th>Exchange Rate</th>\n",
       "    </tr>\n",
       "  </thead>\n",
       "  <tbody>\n",
       "    <tr>\n",
       "      <th>0</th>\n",
       "      <td>2022-11-29</td>\n",
       "      <td>444.17</td>\n",
       "    </tr>\n",
       "    <tr>\n",
       "      <th>1</th>\n",
       "      <td>2022-11-28</td>\n",
       "      <td>444.03</td>\n",
       "    </tr>\n",
       "    <tr>\n",
       "      <th>2</th>\n",
       "      <td>2022-11-25</td>\n",
       "      <td>443.87</td>\n",
       "    </tr>\n",
       "    <tr>\n",
       "      <th>3</th>\n",
       "      <td>2022-11-24</td>\n",
       "      <td>443.74</td>\n",
       "    </tr>\n",
       "    <tr>\n",
       "      <th>4</th>\n",
       "      <td>2022-11-23</td>\n",
       "      <td>443.43</td>\n",
       "    </tr>\n",
       "    <tr>\n",
       "      <th>...</th>\n",
       "      <td>...</td>\n",
       "      <td>...</td>\n",
       "    </tr>\n",
       "    <tr>\n",
       "      <th>216</th>\n",
       "      <td>2022-01-10</td>\n",
       "      <td>413.76</td>\n",
       "    </tr>\n",
       "    <tr>\n",
       "      <th>217</th>\n",
       "      <td>2022-01-07</td>\n",
       "      <td>413.64</td>\n",
       "    </tr>\n",
       "    <tr>\n",
       "      <th>218</th>\n",
       "      <td>2022-01-06</td>\n",
       "      <td>413.46</td>\n",
       "    </tr>\n",
       "    <tr>\n",
       "      <th>219</th>\n",
       "      <td>2022-01-05</td>\n",
       "      <td>413.29</td>\n",
       "    </tr>\n",
       "    <tr>\n",
       "      <th>220</th>\n",
       "      <td>2022-01-04</td>\n",
       "      <td>413.17</td>\n",
       "    </tr>\n",
       "  </tbody>\n",
       "</table>\n",
       "<p>221 rows × 2 columns</p>\n",
       "</div>"
      ],
      "text/plain": [
       "          Date  Exchange Rate\n",
       "0   2022-11-29         444.17\n",
       "1   2022-11-28         444.03\n",
       "2   2022-11-25         443.87\n",
       "3   2022-11-24         443.74\n",
       "4   2022-11-23         443.43\n",
       "..         ...            ...\n",
       "216 2022-01-10         413.76\n",
       "217 2022-01-07         413.64\n",
       "218 2022-01-06         413.46\n",
       "219 2022-01-05         413.29\n",
       "220 2022-01-04         413.17\n",
       "\n",
       "[221 rows x 2 columns]"
      ]
     },
     "execution_count": 10,
     "metadata": {},
     "output_type": "execute_result"
    }
   ],
   "source": [
    "cbn_rates2022 = official_rate.loc[official_rate['Date'].dt.year == 2022]\n",
    "cbn_rates2022\n",
    "# official_rate"
   ]
  },
  {
   "cell_type": "code",
   "execution_count": 11,
   "metadata": {},
   "outputs": [
    {
     "data": {
      "image/png": "[encoded data removed]",
      "text/plain": [
       "<Figure size 432x288 with 1 Axes>"
      ]
     },
     "metadata": {
      "needs_background": "light"
     },
     "output_type": "display_data"
    }
   ],
   "source": [
    "sns.lineplot(data=cbn_rates2022, x='Date', y='Exchange Rate')\n",
    "plt.xticks(rotation=90)\n",
    "plt.show()"
   ]
  },
  {
   "cell_type": "code",
   "execution_count": 12,
   "metadata": {},
   "outputs": [],
   "source": [
    "# cbn_rates2022.to_csv('cbn_rates2022.csv')"
   ]
  }
 ],
 "metadata": {
  "kernelspec": {
   "display_name": "Python 3.10.4 64-bit",
   "language": "python",
   "name": "python3"
  },
  "language_info": {
   "codemirror_mode": {
    "name": "ipython",
    "version": 3
   },
   "file_extension": ".py",
   "mimetype": "text/x-python",
   "name": "python",
   "nbconvert_exporter": "python",
   "pygments_lexer": "ipython3",
   "version": "3.10.4"
  },
  "orig_nbformat": 4,
  "vscode": {
   "interpreter": {
    "hash": "2d817fdef73540654b52e1392c7a5527d46da4eac411b9251d28efbe4d454d6d"
   }
  }
 },
 "nbformat": 4,
 "nbformat_minor": 2
}
