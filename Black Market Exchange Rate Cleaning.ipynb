{
 "cells": [
  {
   "cell_type": "code",
   "execution_count": 37,
   "metadata": {},
   "outputs": [
    {
     "data": {
      "text/html": [
       "<div>\n",
       "<style scoped>\n",
       "    .dataframe tbody tr th:only-of-type {\n",
       "        vertical-align: middle;\n",
       "    }\n",
       "\n",
       "    .dataframe tbody tr th {\n",
       "        vertical-align: top;\n",
       "    }\n",
       "\n",
       "    .dataframe thead th {\n",
       "        text-align: right;\n",
       "    }\n",
       "</style>\n",
       "<table border=\"1\" class=\"dataframe\">\n",
       "  <thead>\n",
       "    <tr style=\"text-align: right;\">\n",
       "      <th></th>\n",
       "      <th>Date</th>\n",
       "      <th>Username</th>\n",
       "      <th>Tweet</th>\n",
       "    </tr>\n",
       "  </thead>\n",
       "  <tbody>\n",
       "    <tr>\n",
       "      <th>0</th>\n",
       "      <td>2022-11-30 11:05:01+00:00</td>\n",
       "      <td>naira_rates</td>\n",
       "      <td>Wed November, 11:05:01 AM \\n\\n💵 1 USD &amp;gt;&amp;gt;&amp;gt;&amp;gt;&amp;gt; ₦755.717\\n💷 1 GBP &amp;gt;&amp;gt;&amp;gt;&amp;gt;&amp;gt; ₦919.712\\n💶 1 EUR &amp;gt;&amp;gt;&amp;gt;&amp;gt;&amp;gt; ₦795.260\\n\\n v1.0.6</td>\n",
       "    </tr>\n",
       "    <tr>\n",
       "      <th>1</th>\n",
       "      <td>2022-11-29 11:05:01+00:00</td>\n",
       "      <td>naira_rates</td>\n",
       "      <td>Tue November, 11:05:01 AM \\n\\n💵 1 USD &amp;gt;&amp;gt;&amp;gt;&amp;gt;&amp;gt; ₦773.201\\n💷 1 GBP &amp;gt;&amp;gt;&amp;gt;&amp;gt;&amp;gt; ₦946.124\\n💶 1 EUR &amp;gt;&amp;gt;&amp;gt;&amp;gt;&amp;gt; ₦814.975\\n\\n v1.0.6</td>\n",
       "    </tr>\n",
       "    <tr>\n",
       "      <th>2</th>\n",
       "      <td>2022-11-28 11:05:02+00:00</td>\n",
       "      <td>naira_rates</td>\n",
       "      <td>Mon November, 11:05:02 AM \\n\\n💵 1 USD &amp;gt;&amp;gt;&amp;gt;&amp;gt;&amp;gt; ₦773.201\\n💷 1 GBP &amp;gt;&amp;gt;&amp;gt;&amp;gt;&amp;gt; ₦948.180\\n💶 1 EUR &amp;gt;&amp;gt;&amp;gt;&amp;gt;&amp;gt; ₦816.395\\n\\n v1.0.6</td>\n",
       "    </tr>\n",
       "    <tr>\n",
       "      <th>3</th>\n",
       "      <td>2022-11-27 11:05:01+00:00</td>\n",
       "      <td>naira_rates</td>\n",
       "      <td>Sun November, 11:05:01 AM \\n\\n💵 1 USD &amp;gt;&amp;gt;&amp;gt;&amp;gt;&amp;gt; ₦773.201\\n💷 1 GBP &amp;gt;&amp;gt;&amp;gt;&amp;gt;&amp;gt; ₦949.074\\n💶 1 EUR &amp;gt;&amp;gt;&amp;gt;&amp;gt;&amp;gt; ₦815.302\\n\\n v1.0.6</td>\n",
       "    </tr>\n",
       "    <tr>\n",
       "      <th>4</th>\n",
       "      <td>2022-11-26 11:05:01+00:00</td>\n",
       "      <td>naira_rates</td>\n",
       "      <td>Sat November, 11:05:01 AM \\n\\n💵 1 USD &amp;gt;&amp;gt;&amp;gt;&amp;gt;&amp;gt; ₦773.201\\n💷 1 GBP &amp;gt;&amp;gt;&amp;gt;&amp;gt;&amp;gt; ₦949.074\\n💶 1 EUR &amp;gt;&amp;gt;&amp;gt;&amp;gt;&amp;gt; ₦815.302\\n\\n v1.0.6</td>\n",
       "    </tr>\n",
       "  </tbody>\n",
       "</table>\n",
       "</div>"
      ],
      "text/plain": [
       "                        Date     Username  \\\n",
       "0  2022-11-30 11:05:01+00:00  naira_rates   \n",
       "1  2022-11-29 11:05:01+00:00  naira_rates   \n",
       "2  2022-11-28 11:05:02+00:00  naira_rates   \n",
       "3  2022-11-27 11:05:01+00:00  naira_rates   \n",
       "4  2022-11-26 11:05:01+00:00  naira_rates   \n",
       "\n",
       "                                                                                                                                                          Tweet  \n",
       "0  Wed November, 11:05:01 AM \\n\\n💵 1 USD &gt;&gt;&gt;&gt;&gt; ₦755.717\\n💷 1 GBP &gt;&gt;&gt;&gt;&gt; ₦919.712\\n💶 1 EUR &gt;&gt;&gt;&gt;&gt; ₦795.260\\n\\n v1.0.6  \n",
       "1  Tue November, 11:05:01 AM \\n\\n💵 1 USD &gt;&gt;&gt;&gt;&gt; ₦773.201\\n💷 1 GBP &gt;&gt;&gt;&gt;&gt; ₦946.124\\n💶 1 EUR &gt;&gt;&gt;&gt;&gt; ₦814.975\\n\\n v1.0.6  \n",
       "2  Mon November, 11:05:02 AM \\n\\n💵 1 USD &gt;&gt;&gt;&gt;&gt; ₦773.201\\n💷 1 GBP &gt;&gt;&gt;&gt;&gt; ₦948.180\\n💶 1 EUR &gt;&gt;&gt;&gt;&gt; ₦816.395\\n\\n v1.0.6  \n",
       "3  Sun November, 11:05:01 AM \\n\\n💵 1 USD &gt;&gt;&gt;&gt;&gt; ₦773.201\\n💷 1 GBP &gt;&gt;&gt;&gt;&gt; ₦949.074\\n💶 1 EUR &gt;&gt;&gt;&gt;&gt; ₦815.302\\n\\n v1.0.6  \n",
       "4  Sat November, 11:05:01 AM \\n\\n💵 1 USD &gt;&gt;&gt;&gt;&gt; ₦773.201\\n💷 1 GBP &gt;&gt;&gt;&gt;&gt; ₦949.074\\n💶 1 EUR &gt;&gt;&gt;&gt;&gt; ₦815.302\\n\\n v1.0.6  "
      ]
     },
     "execution_count": 37,
     "metadata": {},
     "output_type": "execute_result"
    }
   ],
   "source": [
    "# importing the necessary modules\n",
    "import pandas as pd\n",
    "import seaborn as sns\n",
    "import matplotlib.pyplot as plt\n",
    "import re\n",
    "\n",
    "# loading our data\n",
    "pd.set_option('display.max_colwidth', None)\n",
    "raw_data = pd.read_csv(\"C:/Users/Ahmad/Desktop/Python/TwitterProjects/nr_blackmarket_raw.csv\", index_col=0)\n",
    "raw_data.head()"
   ]
  },
  {
   "cell_type": "code",
   "execution_count": 38,
   "metadata": {},
   "outputs": [
    {
     "data": {
      "text/plain": [
       "(string[python], dtype('<M8[ns]'))"
      ]
     },
     "execution_count": 38,
     "metadata": {},
     "output_type": "execute_result"
    }
   ],
   "source": [
    "# converting to appropriate data types\n",
    "raw_tweet = raw_data['Tweet'].astype('string')\n",
    "date_in_dt = pd.to_datetime(raw_data['Date'])\n",
    "date_in_dt = date_in_dt.dt.date\n",
    "date_in_dt = pd.to_datetime(date_in_dt)\n",
    "raw_data['Date'] = date_in_dt\n",
    "raw_tweet.dtypes, date_in_dt.dtypes"
   ]
  },
  {
   "cell_type": "code",
   "execution_count": 39,
   "metadata": {},
   "outputs": [
    {
     "data": {
      "text/plain": [
       "0    Wed November, 11:05:01 AM \n",
       "\n",
       "💵 1 USD  755.717\n",
       "💷 1 GBP  919.712\n",
       "💶 1 EUR  795.260\n",
       "\n",
       " v1.0.6\n",
       "Name: Tweet, dtype: string"
      ]
     },
     "execution_count": 39,
     "metadata": {},
     "output_type": "execute_result"
    }
   ],
   "source": [
    "# cleaning up the tweets\n",
    "dirty_tweet = raw_tweet.str.replace('&gt;', \"\").str.replace('₦', \"\")\n",
    "dirty_tweet.head(1)"
   ]
  },
  {
   "cell_type": "code",
   "execution_count": 40,
   "metadata": {},
   "outputs": [
    {
     "data": {
      "text/plain": [
       "0    [USD  755.717]\n",
       "1    [USD  773.201]\n",
       "2    [USD  773.201]\n",
       "3    [USD  773.201]\n",
       "4    [USD  773.201]\n",
       "Name: Tweet, dtype: object"
      ]
     },
     "execution_count": 40,
     "metadata": {},
     "output_type": "execute_result"
    }
   ],
   "source": [
    "# using regex to extract USD rates\n",
    "pattern = \"(?:USD)  \\d{3}.\\d{3}\"\n",
    "com_pat = re.compile(pattern)\n",
    "cleaned_tweet = dirty_tweet.apply(lambda x: com_pat.findall(x))\n",
    "# [df1.str.match(pat)==True]\n",
    "cleaned_tweet.head()"
   ]
  },
  {
   "cell_type": "code",
   "execution_count": 41,
   "metadata": {},
   "outputs": [
    {
     "data": {
      "text/plain": [
       "0    755.717\n",
       "1    773.201\n",
       "2    773.201\n",
       "3    773.201\n",
       "4    773.201\n",
       "Name: Exchange Rate, dtype: float64"
      ]
     },
     "execution_count": 41,
     "metadata": {},
     "output_type": "execute_result"
    }
   ],
   "source": [
    "# adding the extracted data as a column in our dataset\n",
    "raw_data['Exchange Rate'] = cleaned_tweet.explode().str[3:].astype('float')\n",
    "raw_data['Exchange Rate'].head()"
   ]
  },
  {
   "cell_type": "code",
   "execution_count": 42,
   "metadata": {},
   "outputs": [
    {
     "data": {
      "text/plain": [
       "Date             datetime64[ns]\n",
       "Exchange Rate           float64\n",
       "dtype: object"
      ]
     },
     "execution_count": 42,
     "metadata": {},
     "output_type": "execute_result"
    }
   ],
   "source": [
    "# our new df\n",
    "nr_dol = raw_data[['Date', 'Exchange Rate']]\n",
    "nr_dol.dtypes"
   ]
  },
  {
   "cell_type": "code",
   "execution_count": 43,
   "metadata": {},
   "outputs": [
    {
     "data": {
      "text/plain": [
       "<function matplotlib.pyplot.show(close=None, block=None)>"
      ]
     },
     "execution_count": 43,
     "metadata": {},
     "output_type": "execute_result"
    },
    {
     "data": {
      "image/png": "[encoded data removed]",
      "text/plain": [
       "<Figure size 432x288 with 1 Axes>"
      ]
     },
     "metadata": {
      "needs_background": "light"
     },
     "output_type": "display_data"
    }
   ],
   "source": [
    "# plotting a chart of exchange rate\n",
    "sns.lineplot(data=nr_dol, x='Date', y='Exchange Rate')\n",
    "plt.xticks(rotation=90)\n",
    "plt.show"
   ]
  },
  {
   "cell_type": "code",
   "execution_count": 44,
   "metadata": {},
   "outputs": [],
   "source": [
    "# nr_dol.to_csv('blackmarket_rates2022.csv')"
   ]
  }
 ],
 "metadata": {
  "kernelspec": {
   "display_name": "Python 3.10.4 64-bit",
   "language": "python",
   "name": "python3"
  },
  "language_info": {
   "codemirror_mode": {
    "name": "ipython",
    "version": 3
   },
   "file_extension": ".py",
   "mimetype": "text/x-python",
   "name": "python",
   "nbconvert_exporter": "python",
   "pygments_lexer": "ipython3",
   "version": "3.10.4"
  },
  "orig_nbformat": 4,
  "vscode": {
   "interpreter": {
    "hash": "2d817fdef73540654b52e1392c7a5527d46da4eac411b9251d28efbe4d454d6d"
   }
  }
 },
 "nbformat": 4,
 "nbformat_minor": 2
}
